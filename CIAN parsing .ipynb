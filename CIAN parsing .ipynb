{
 "cells": [
  {
   "cell_type": "code",
   "execution_count": 2,
   "metadata": {
    "collapsed": true
   },
   "outputs": [],
   "source": [
    "import requests\n",
    "import re\n",
    "from bs4 import BeautifulSoup\n",
    "import pandas as pd\n",
    "import time"
   ]
  },
  {
   "cell_type": "code",
   "execution_count": 3,
   "metadata": {
    "collapsed": true
   },
   "outputs": [],
   "source": [
    "def html_stripper(text):\n",
    "    return re.sub('<[^<]+?>', '', str(text))"
   ]
  },
  {
   "cell_type": "markdown",
   "metadata": {},
   "source": [
    "# Цена"
   ]
  },
  {
   "cell_type": "markdown",
   "metadata": {},
   "source": [
    "Парсить цену можно двумя способами: доставать из раздела, который выводит цену на экран или из раздела 'itemprop', в котором тоже записана цена. В первом случае есть проблема с количеством символов: можно не вывести часть цифр, если значение больше миллиарда (таких квартир, согласно ЦИАНу немало). Во втором случае тоже могут возникнуть проблемы, так как в этом разделе значение не всегда отображается верно.\n",
    "Остановимся на первом варианте, но с небольшой попроавкой. В большинстве случаев, если цена более миллиарда, то она записана и в рублях, и в долларах, а между двумя значениями ставится разделительный знак. Этот знак ставится определенного цвета, который закордирован значением '808080'. Значит, если в коде страницы будет этот знак, то будем брать все значение после него, т. е. все значение в рублях. Если знака нет, то будем брать последние значения, то есть парсить цену до миллиарда. "
   ]
  },
  {
   "cell_type": "code",
   "execution_count": 4,
   "metadata": {
    "collapsed": true
   },
   "outputs": [],
   "source": [
    "def find_element(element, list_element):\n",
    "    try:\n",
    "        index_element = list_element.index(element)\n",
    "        return index_element+1\n",
    "    except ValueError:\n",
    "        return 0"
   ]
  },
  {
   "cell_type": "code",
   "execution_count": 5,
   "metadata": {
    "collapsed": true
   },
   "outputs": [],
   "source": [
    "def getPrice(flat_page):\n",
    "    try:\n",
    "        price = flat_page.find('div', attrs={'class':'object_descr_price'})\n",
    "        price = re.split('<div>|за м<sup>2</sup>|\\n|80800|руб|\\W', str(price))\n",
    "        price = [i for i in price if i.isdigit()]\n",
    "        indextilda = find_element('808080',price)\n",
    "        price1 = \"\".join([i for i in price if i.isdigit()][(indextilda):])\n",
    "        return int(price1)\n",
    "    except:\n",
    "        return ()"
   ]
  },
  {
   "cell_type": "markdown",
   "metadata": {},
   "source": [
    "# Количество комнат"
   ]
  },
  {
   "cell_type": "code",
   "execution_count": 6,
   "metadata": {
    "collapsed": true
   },
   "outputs": [],
   "source": [
    "def getRoom(flat_page):\n",
    "    try: \n",
    "        rooms = flat_page.find('div', attrs={'class':'object_descr_title'})\n",
    "        rooms = html_stripper(rooms)\n",
    "        room_number = ''\n",
    "        for i in re.split('-|\\n', rooms):\n",
    "            if 'комн' in i:\n",
    "                break\n",
    "            else:\n",
    "                room_number += i\n",
    "        room_number = \"\".join(room_number.split())\n",
    "        return room_number\n",
    "    except:\n",
    "        return ()"
   ]
  },
  {
   "cell_type": "markdown",
   "metadata": {},
   "source": [
    "# Общая площадь"
   ]
  },
  {
   "cell_type": "markdown",
   "metadata": {},
   "source": [
    "#### Площади берем из раздела 'table'. Есть небольшая деталь, что площадь может быть записана целым числом или с дробной частью. Для этого мы сравним количество символов в строке и количество цифр в строке. Если символов больше, то значит есть запятая, отделяющая дробную часть. В этом случае полученное числовое значение надо дополнительно разделить на 10. "
   ]
  },
  {
   "cell_type": "code",
   "execution_count": 7,
   "metadata": {
    "collapsed": true
   },
   "outputs": [],
   "source": [
    "def getTotsp (flat_page):\n",
    "    try:\n",
    "        table = flat_page.find('table', attrs = {'class':'object_descr_props'})\n",
    "        table = html_stripper(table)\n",
    "        tspace = re.split('Общая площадь|Площадь комнат', table)[1]\n",
    "        tspace1 = re.split('-|\\n', tspace)\n",
    "        tspace1 = re.split('\\xa0|м2',tspace1[2])\n",
    "        tspace2 = \"\".join([i for i in tspace1[0] if i.isdigit()])\n",
    "        if len(tspace1[0]) != len(tspace2):\n",
    "            totsp = int(tspace2)/10\n",
    "        else:\n",
    "            totsp = int(tspace2)\n",
    "        return totsp\n",
    "    except: \n",
    "        return ()"
   ]
  },
  {
   "cell_type": "markdown",
   "metadata": {},
   "source": [
    "# Общая жилая площадь"
   ]
  },
  {
   "cell_type": "code",
   "execution_count": 8,
   "metadata": {
    "collapsed": true
   },
   "outputs": [],
   "source": [
    "def getLivesp (flat_page):\n",
    "    try:\n",
    "        table = flat_page.find('table', attrs = {'class':'object_descr_props'})\n",
    "        table = html_stripper(table)\n",
    "        lspace = re.split('Жилая площадь|Площадь кухни', table)[1]\n",
    "        lspace1 = re.split('-|\\n', lspace)\n",
    "        lspace1 = re.split('\\xa0|м2',lspace1[2])\n",
    "        lspace2 = \"\".join([i for i in lspace1[0] if i.isdigit()]) #В случае нецелых значений \n",
    "        if len(lspace1[0]) != len(lspace2):#В случае нецелых значений площади\n",
    "            livesp = int(lspace2)/10\n",
    "        else:\n",
    "            livesp = int(lspace2)\n",
    "        return livesp\n",
    "    except:\n",
    "        return()\n",
    "    "
   ]
  },
  {
   "cell_type": "markdown",
   "metadata": {},
   "source": [
    "# Площадь кухни"
   ]
  },
  {
   "cell_type": "code",
   "execution_count": 9,
   "metadata": {
    "collapsed": true
   },
   "outputs": [],
   "source": [
    "def getKitsp (flat_page):\n",
    "    try:\n",
    "        table = flat_page.find('table', attrs = {'class':'object_descr_props'})\n",
    "        table = html_stripper(table)\n",
    "        kitsp = re.split('Площадь кухни|Санузел', table)[1]\n",
    "        kitsp1 = re.split('-|\\n', kitsp)\n",
    "        kitsp1 = re.split('\\xa0|м2',kitsp1[2])\n",
    "        kitsp2 = \"\".join([i for i in kitsp1[0] if i.isdigit()])\n",
    "        if len(kitsp1[0]) != len(kitsp2):\n",
    "            kitspace = int(kitsp2)/10\n",
    "        else:\n",
    "            kitspace = int(kitsp2)\n",
    "        return kitspace\n",
    "    except:\n",
    "        return()\n",
    "    "
   ]
  },
  {
   "cell_type": "markdown",
   "metadata": {},
   "source": [
    "# Расстояние до центра"
   ]
  },
  {
   "cell_type": "markdown",
   "metadata": {},
   "source": [
    "Центром условно будем считать Нулевой километр.\n",
    "Расстояние просто рассчитаем по теореме Пифагора."
   ]
  },
  {
   "cell_type": "code",
   "execution_count": 10,
   "metadata": {
    "collapsed": true
   },
   "outputs": [],
   "source": [
    "def getDist(flat_page):\n",
    "    try:\n",
    "        coords = flat_page.find('div', attrs={'class':'map_info_button_extend'}).contents[1]\n",
    "        coords = re.split('&amp|center=|%2C', str(coords))\n",
    "        coords_list = []\n",
    "        for item in coords:\n",
    "            if item[0].isdigit():\n",
    "                coords_list.append(item)\n",
    "        lat = float(coords_list[0])\n",
    "        lon = float(coords_list[1])\n",
    "        clat = 55.755831\n",
    "        clon = 37.617673\n",
    "        dist = ((clat-lat)**2 + (clon-lon)**2)**0.5\n",
    "        dist = round(dist*111.134861111,5)\n",
    "        return dist\n",
    "    except:\n",
    "        ()"
   ]
  },
  {
   "cell_type": "markdown",
   "metadata": {},
   "source": [
    "# Расстояние до метро в минутах"
   ]
  },
  {
   "cell_type": "code",
   "execution_count": 11,
   "metadata": {
    "collapsed": true
   },
   "outputs": [],
   "source": [
    "def getMetrdist (flat_page):\n",
    "    try:\n",
    "        metrdist = flat_page.find('span', attrs={'class':'object_item_metro_comment'}).contents[0]\n",
    "        metrdist1 = re.split('\\n',metrdist)\n",
    "        return int(metrdist1[1].strip())\n",
    "    except:\n",
    "        return ()"
   ]
  },
  {
   "cell_type": "markdown",
   "metadata": {},
   "source": [
    "# Пешая доступность метро"
   ]
  },
  {
   "cell_type": "code",
   "execution_count": 14,
   "metadata": {
    "collapsed": true
   },
   "outputs": [],
   "source": [
    "def getWalk (flat_page):\n",
    "    try:\n",
    "        metrdist = flat_page.find('span', attrs={'class':'object_item_metro_comment'}).contents[0]\n",
    "        walk = re.split('\\n',metrdist)\n",
    "        walk = walk[4].strip()\n",
    "        if walk == 'пешком':\n",
    "            return 1\n",
    "        else:\n",
    "            return 0\n",
    "    except:\n",
    "        return ()"
   ]
  },
  {
   "cell_type": "markdown",
   "metadata": {},
   "source": [
    "# Основной материал здания"
   ]
  },
  {
   "cell_type": "code",
   "execution_count": 15,
   "metadata": {
    "collapsed": true
   },
   "outputs": [],
   "source": [
    "def getBrick(flat_page):\n",
    "    try:\n",
    "        table = flat_page.find('table', attrs = {'class':'object_descr_props'})\n",
    "        table = html_stripper(table)\n",
    "        Brick = re.split('Тип дома|Тип продажи', table)[1]\n",
    "        Brick1 = re.split('\\n', Brick)\n",
    "        if Brick1[3].strip() != '':\n",
    "            Brick1 = Brick1[3].strip()\n",
    "        if Brick1 == ('кирпичный' or 'жб' or 'кирпично-монолитный'):\n",
    "            answer = 1\n",
    "        elif Brick1 == ('монолитный'):\n",
    "            answer = 1\n",
    "        else:\n",
    "            answer = 0\n",
    "        return answer\n",
    "    except: \n",
    "        return ()"
   ]
  },
  {
   "cell_type": "markdown",
   "metadata": {},
   "source": [
    "# Наличие балкона/лоджии"
   ]
  },
  {
   "cell_type": "code",
   "execution_count": 16,
   "metadata": {
    "collapsed": true
   },
   "outputs": [],
   "source": [
    "def getBal(flat_page):\n",
    "    try:\n",
    "        table = flat_page.find('table', attrs = {'class':'object_descr_props'})\n",
    "        table = html_stripper(table)\n",
    "        bal = re.split('Балкон|Лифт', table)[1]\n",
    "        bal1 = re.split('\\n', bal)\n",
    "        if bal1[1][0].isdigit():\n",
    "            return 1\n",
    "        else: \n",
    "            return 0\n",
    "    except: \n",
    "        return ()"
   ]
  },
  {
   "cell_type": "markdown",
   "metadata": {},
   "source": [
    "# Этаж, на котором расположена квартира"
   ]
  },
  {
   "cell_type": "code",
   "execution_count": 17,
   "metadata": {
    "collapsed": true
   },
   "outputs": [],
   "source": [
    "def getFloor (flat_page):\n",
    "    try:\n",
    "        table = flat_page.find('table', attrs = {'class':'object_descr_props'})\n",
    "        table = html_stripper(table)\n",
    "        floor_nfl = re.split('Этаж|Тип дома', table)[1]\n",
    "        floor = re.split('-|\\n', floor_nfl)[2]\n",
    "        floor = re.split('-|\\n|/|\\xa0', floor_nfl)[2]\n",
    "        return int(floor.strip())\n",
    "    except:\n",
    "        return ()"
   ]
  },
  {
   "cell_type": "markdown",
   "metadata": {},
   "source": [
    "# Количество этажей в доме"
   ]
  },
  {
   "cell_type": "code",
   "execution_count": 18,
   "metadata": {
    "collapsed": false
   },
   "outputs": [],
   "source": [
    "def getNfloors (flat_page):\n",
    "    try:\n",
    "        table = flat_page.find('table', attrs = {'class':'object_descr_props'})\n",
    "        table = html_stripper(table)\n",
    "        floor_nfl = re.split('Этаж|Тип дома', table)[1]\n",
    "        nfloor = re.split('-|\\n', floor_nfl)[2]\n",
    "        nfloor = re.split('-|\\n|/|\\xa0', floor_nfl)[5]\n",
    "        return int(nfloor)\n",
    "    except:\n",
    "        nfloor = re.split('-|\\n|/|\\xa0', floor_nfl)[2]\n",
    "        nfloor = \"\".join([i for i in nfloor if i.isdigit()])\n",
    "        return int(nfloor)"
   ]
  },
  {
   "cell_type": "markdown",
   "metadata": {},
   "source": [
    "# Новая ли квартира"
   ]
  },
  {
   "cell_type": "code",
   "execution_count": 19,
   "metadata": {
    "collapsed": true
   },
   "outputs": [],
   "source": [
    "def getNew (flat_page):\n",
    "    try:\n",
    "        table = flat_page.find('table', attrs = {'class':'object_descr_props'})\n",
    "        table = html_stripper(table)\n",
    "        New = re.split('Тип дома|Тип продажи', table)[1]\n",
    "        New1 = re.split('\\n', New)\n",
    "        New1 = New1[2].strip()\n",
    "        New1 = New1.replace(',','')\n",
    "        if New1 == 'вторичка':\n",
    "            return 0\n",
    "        elif New1 == 'новостройка':\n",
    "            return 1\n",
    "        else:\n",
    "            return ()\n",
    "    except: \n",
    "        return ()"
   ]
  },
  {
   "cell_type": "markdown",
   "metadata": {},
   "source": [
    "# Дальше нужно узнать, в каких районах собирать данные"
   ]
  },
  {
   "cell_type": "code",
   "execution_count": 20,
   "metadata": {
    "collapsed": true
   },
   "outputs": [],
   "source": [
    "#Через раздел расширенного поиска узнаем все основные районы (адимнистративные округа) Москвы и по порядку берем ссылки на квартиры из этого района\n",
    "Names = ['ЦАО','САО', 'СВАО', 'ВАО','ЮВАО', 'ЮАО','ЮЗАО','ЗАО','СЗАО','ЗелАО','НАО', 'ТАО']\n",
    "districts = ['http://www.cian.ru/cat.php?deal_type=sale&district%5B0%5D=13&district%5B1%5D=14&district%5B2%5D=15&district%5B3%5D=16&district%5B4%5D=17&district%5B5%5D=18&district%5B6%5D=19&district%5B7%5D=20&district%5B8%5D=21&district%5B9%5D=22&engine_version=2&offer_type=flat&p={}&room1=1&room2=1&room3=1&room4=1&room5=1&room6=1',\n",
    "           'http://www.cian.ru/cat.php?deal_type=sale&district%5B0%5D=23&district%5B10%5D=33&district%5B11%5D=34&district%5B12%5D=35&district%5B13%5D=36&district%5B14%5D=37&district%5B15%5D=38&district%5B1%5D=24&district%5B2%5D=25&district%5B3%5D=26&district%5B4%5D=27&district%5B5%5D=28&district%5B6%5D=29&district%5B7%5D=30&district%5B8%5D=31&district%5B9%5D=32&engine_version=2&offer_type=flat&p={}&room1=1&room2=1&room3=1&room4=1&room5=1&room6=1',\n",
    "           'http://www.cian.ru/cat.php?deal_type=sale&district%5B0%5D=39&district%5B10%5D=49&district%5B11%5D=50&district%5B12%5D=51&district%5B13%5D=52&district%5B14%5D=53&district%5B15%5D=54&district%5B16%5D=55&district%5B1%5D=40&district%5B2%5D=41&district%5B3%5D=42&district%5B4%5D=43&district%5B5%5D=44&district%5B6%5D=45&district%5B7%5D=46&district%5B8%5D=47&district%5B9%5D=48&engine_version=2&offer_type=flat&p={}&room1=1&room2=1&room3=1&room4=1&room5=1&room6=1',\n",
    "           'http://www.cian.ru/cat.php?deal_type=sale&district%5B0%5D=56&district%5B10%5D=66&district%5B11%5D=67&district%5B12%5D=68&district%5B13%5D=69&district%5B14%5D=70&district%5B15%5D=71&district%5B1%5D=57&district%5B2%5D=58&district%5B3%5D=59&district%5B4%5D=60&district%5B5%5D=61&district%5B6%5D=62&district%5B7%5D=63&district%5B8%5D=64&district%5B9%5D=65&engine_version=2&offer_type=flat&p={}&room1=1&room2=1&room3=1&room4=1&room5=1&room6=1',\n",
    "           'http://www.cian.ru/cat.php?deal_type=sale&district%5B0%5D=72&district%5B10%5D=82&district%5B11%5D=83&district%5B1%5D=73&district%5B2%5D=74&district%5B3%5D=75&district%5B4%5D=76&district%5B5%5D=77&district%5B6%5D=78&district%5B7%5D=79&district%5B8%5D=80&district%5B9%5D=81&engine_version=2&offer_type=flat&p={}&room1=1&room2=1&room3=1&room4=1&room5=1&room6=1',\n",
    "           'http://www.cian.ru/cat.php?deal_type=sale&district%5B0%5D=84&district%5B10%5D=94&district%5B11%5D=95&district%5B12%5D=96&district%5B13%5D=97&district%5B14%5D=98&district%5B15%5D=99&district%5B1%5D=85&district%5B2%5D=86&district%5B3%5D=87&district%5B4%5D=88&district%5B5%5D=89&district%5B6%5D=90&district%5B7%5D=91&district%5B8%5D=92&district%5B9%5D=93&engine_version=2&offer_type=flat&p={}&room1=1&room2=1&room3=1&room4=1&room5=1&room6=1',\n",
    "           'http://www.cian.ru/cat.php?deal_type=sale&district%5B0%5D=100&district%5B10%5D=110&district%5B11%5D=111&district%5B1%5D=101&district%5B2%5D=102&district%5B3%5D=103&district%5B4%5D=104&district%5B5%5D=105&district%5B6%5D=106&district%5B7%5D=107&district%5B8%5D=108&district%5B9%5D=109&engine_version=2&offer_type=flat&p={}&room1=1&room2=1&room3=1&room4=1&room5=1&room6=1',\n",
    "           'http://www.cian.ru/cat.php?deal_type=sale&district%5B0%5D=112&district%5B10%5D=122&district%5B11%5D=123&district%5B12%5D=124&district%5B13%5D=348&district%5B14%5D=349&district%5B15%5D=350&district%5B1%5D=113&district%5B2%5D=114&district%5B3%5D=115&district%5B4%5D=116&district%5B5%5D=117&district%5B6%5D=118&district%5B7%5D=119&district%5B8%5D=120&district%5B9%5D=121&engine_version=2&offer_type=flat&p={}&room1=1&room2=1&room3=1&room4=1&room5=1&room6=1',\n",
    "           'http://www.cian.ru/cat.php?deal_type=sale&district%5B0%5D=125&district%5B1%5D=126&district%5B2%5D=127&district%5B3%5D=128&district%5B4%5D=129&district%5B5%5D=130&district%5B6%5D=131&district%5B7%5D=132&engine_version=2&offer_type=flat&p={}&room1=1&room2=1&room3=1&room4=1&room5=1&room6=1',\n",
    "           'http://www.cian.ru/cat.php?deal_type=sale&district%5B0%5D=152&district%5B1%5D=153&district%5B2%5D=154&district%5B3%5D=355&district%5B4%5D=356&district%5B5%5D=357&district%5B6%5D=358&engine_version=2&offer_type=flat&p={}&room1=1&room2=1&room3=1&room4=1&room5=1&room6=1',\n",
    "           'http://www.cian.ru/cat.php?deal_type=sale&district%5B0%5D=327&district%5B10%5D=337&district%5B1%5D=328&district%5B2%5D=329&district%5B3%5D=330&district%5B4%5D=331&district%5B5%5D=332&district%5B6%5D=333&district%5B7%5D=334&district%5B8%5D=335&district%5B9%5D=336&engine_version=2&offer_type=flat&p={}&room1=1&room2=1&room3=1&room4=1&room5=1&room6=1',\n",
    "           'http://www.cian.ru/cat.php?deal_type=sale&district%5B0%5D=338&district%5B1%5D=339&district%5B2%5D=340&district%5B3%5D=341&district%5B4%5D=342&district%5B5%5D=343&district%5B6%5D=344&district%5B7%5D=345&district%5B8%5D=346&district%5B9%5D=347&engine_version=2&offer_type=flat&p={}&room1=1&room2=1&room3=1&room4=1&room5=1&room6=1']"
   ]
  },
  {
   "cell_type": "code",
   "execution_count": 21,
   "metadata": {
    "collapsed": true
   },
   "outputs": [],
   "source": [
    "def getPage(link):\n",
    "    page = requests.get(link).content\n",
    "    page = BeautifulSoup(page, 'lxml')\n",
    "    return page"
   ]
  },
  {
   "cell_type": "code",
   "execution_count": 22,
   "metadata": {
    "collapsed": true
   },
   "outputs": [],
   "source": [
    "\n",
    "def getSubpageLink(link):\n",
    "    return 'http://www.cian.ru/sale/flat/' + str(link) + '/'\n"
   ]
  },
  {
   "cell_type": "code",
   "execution_count": 23,
   "metadata": {
    "collapsed": false
   },
   "outputs": [],
   "source": [
    "from collections import OrderedDict #Для удаления повторений"
   ]
  },
  {
   "cell_type": "code",
   "execution_count": 24,
   "metadata": {
    "collapsed": false
   },
   "outputs": [],
   "source": [
    "def getLinks0(district, pages):\n",
    "    for page in range(1, 30):\n",
    "        page_url =  district.format(page)\n",
    "\n",
    "        search_page = requests.get(page_url)\n",
    "        search_page = search_page.content\n",
    "        search_page = BeautifulSoup(search_page, 'lxml')\n",
    "\n",
    "        flat_urls = search_page.findAll('div', attrs = {'ng-class':\"{'serp-item_removed': offer.remove.state, 'serp-item_popup-opened': isPopupOpen}\"})\n",
    "        flat_urls = re.split('http://www.cian.ru/sale/flat/|/\" ng-class=\"', str(flat_urls))\n",
    "\n",
    "        for link in flat_urls:\n",
    "            if link.isdigit():\n",
    "                links.append(link)\n",
    "    return links"
   ]
  },
  {
   "cell_type": "code",
   "execution_count": 25,
   "metadata": {
    "collapsed": false
   },
   "outputs": [
    {
     "data": {
      "text/plain": [
       "12"
      ]
     },
     "execution_count": 25,
     "metadata": {},
     "output_type": "execute_result"
    }
   ],
   "source": [
    "len(districts)"
   ]
  },
  {
   "cell_type": "markdown",
   "metadata": {},
   "source": [
    "Значит всего 12 районов"
   ]
  },
  {
   "cell_type": "markdown",
   "metadata": {},
   "source": [
    "## Сначала соберем все ссылки по районам"
   ]
  },
  {
   "cell_type": "code",
   "execution_count": 26,
   "metadata": {
    "collapsed": false
   },
   "outputs": [],
   "source": [
    "links = []\n",
    "links_final = []\n",
    "for i in range(len(districts)):\n",
    "    links = []\n",
    "    links = getLinks0(districts[i], pages = range(1,30,1))\n",
    "    links_final.append(links)"
   ]
  },
  {
   "cell_type": "markdown",
   "metadata": {},
   "source": [
    "### Теперь объединим все ссылки в один список"
   ]
  },
  {
   "cell_type": "code",
   "execution_count": 27,
   "metadata": {
    "collapsed": false
   },
   "outputs": [],
   "source": [
    "links_list = []\n",
    "for i in range(len(links_final)):\n",
    "    for j in range(len(links_final[i])):\n",
    "        links_list.append(links_final[i][j])"
   ]
  },
  {
   "cell_type": "code",
   "execution_count": 40,
   "metadata": {
    "collapsed": false
   },
   "outputs": [
    {
     "data": {
      "text/plain": [
       "9048"
      ]
     },
     "execution_count": 40,
     "metadata": {},
     "output_type": "execute_result"
    }
   ],
   "source": [
    "len(links_list)"
   ]
  },
  {
   "cell_type": "markdown",
   "metadata": {},
   "source": [
    "#### Всего соберем ссылки на 9048 квартир"
   ]
  },
  {
   "cell_type": "markdown",
   "metadata": {},
   "source": [
    "###### Проверяем:"
   ]
  },
  {
   "cell_type": "code",
   "execution_count": 28,
   "metadata": {
    "collapsed": false
   },
   "outputs": [
    {
     "data": {
      "text/plain": [
       "'149965274'"
      ]
     },
     "execution_count": 28,
     "metadata": {},
     "output_type": "execute_result"
    }
   ],
   "source": [
    "link = links_final[0][1]\n",
    "link"
   ]
  },
  {
   "cell_type": "markdown",
   "metadata": {
    "collapsed": false
   },
   "source": [
    "#### Функция, которая будет считать порядковый номер квартиры"
   ]
  },
  {
   "cell_type": "code",
   "execution_count": 29,
   "metadata": {
    "collapsed": true
   },
   "outputs": [],
   "source": [
    "def getN(number_iter):\n",
    "    return number_iter + 1"
   ]
  },
  {
   "cell_type": "markdown",
   "metadata": {
    "collapsed": true
   },
   "source": [
    "### Итоговая функция, которая будет собирать данные с каждой квартиры и формировать таблицу"
   ]
  },
  {
   "cell_type": "code",
   "execution_count": 30,
   "metadata": {
    "collapsed": false
   },
   "outputs": [],
   "source": [
    "def ParseFlats(all_links):\n",
    "    flatStats = pd.DataFrame(columns=['N', 'Rooms', 'Price', 'Totsp', 'Livesp', 'Kitsp', 'Dist', \n",
    "                 'Metrdist', 'Walk', 'Brick', 'Bal', 'Floor', 'Nfloors', 'New'])\n",
    "    count = 0\n",
    "    imax = len(all_links)\n",
    "    for i in range(len(all_links)):\n",
    "        link = all_links[i]\n",
    "        try: \n",
    "            flat_page = getPage(getSubpageLink(link))\n",
    "            to_append = {'N': getN(count), 'Rooms': getRoom(flat_page), 'Price': getPrice(flat_page), 'Totsp': getTotsp(flat_page), 'Livesp': getLivesp(flat_page), 'Kitsp': getKitsp(flat_page), 'Dist': getDist(flat_page), 'Metrdist': getMetrdist(flat_page), 'Walk': getWalk(flat_page), 'Brick': getBrick(flat_page), 'Bal': getBal(flat_page), 'Floor': getFloor(flat_page), 'Nfloors': getNfloors(flat_page), 'New': getNew(flat_page)}\n",
    "            flatStats = flatStats.append(to_append, ignore_index=True)\n",
    "            count +=1 \n",
    "            if count % 30 == 0:\n",
    "                print('Я работаю над страницей номер {}'.format(int(count/30+1)))\n",
    "        except:\n",
    "            print('Whoops, something weird with link {}.'.format(link))\n",
    "    print ('Я закончил')\n",
    "    return flatStats"
   ]
  },
  {
   "cell_type": "markdown",
   "metadata": {},
   "source": [
    "Деление на страницы здесь, по большому счету, условно, т. к. ссылки находятся в одном списке. Но воспользуемся им для более удобного контроля процесса"
   ]
  },
  {
   "cell_type": "markdown",
   "metadata": {},
   "source": [
    "#### Приступаем к самому интригующему "
   ]
  },
  {
   "cell_type": "code",
   "execution_count": 34,
   "metadata": {
    "collapsed": false
   },
   "outputs": [
    {
     "name": "stdout",
     "output_type": "stream",
     "text": [
      "Я работаю над страницей номер 2\n",
      "Я работаю над страницей номер 3\n",
      "Я работаю над страницей номер 4\n",
      "Я работаю над страницей номер 5\n",
      "Я работаю над страницей номер 6\n",
      "Я работаю над страницей номер 7\n",
      "Я работаю над страницей номер 8\n",
      "Я работаю над страницей номер 9\n",
      "Я работаю над страницей номер 10\n",
      "Я работаю над страницей номер 11\n",
      "Я работаю над страницей номер 12\n",
      "Я работаю над страницей номер 13\n",
      "Я работаю над страницей номер 14\n",
      "Я работаю над страницей номер 15\n",
      "Я работаю над страницей номер 16\n",
      "Я работаю над страницей номер 17\n",
      "Я работаю над страницей номер 18\n",
      "Я работаю над страницей номер 19\n",
      "Я работаю над страницей номер 20\n",
      "Я работаю над страницей номер 21\n",
      "Я работаю над страницей номер 22\n",
      "Я работаю над страницей номер 23\n",
      "Я работаю над страницей номер 24\n",
      "Я работаю над страницей номер 25\n",
      "Я работаю над страницей номер 26\n",
      "Я работаю над страницей номер 27\n",
      "Я работаю над страницей номер 28\n",
      "Я работаю над страницей номер 29\n",
      "Я работаю над страницей номер 30\n",
      "Я работаю над страницей номер 31\n",
      "Я работаю над страницей номер 32\n",
      "Я работаю над страницей номер 33\n",
      "Я работаю над страницей номер 34\n",
      "Я работаю над страницей номер 35\n",
      "Я работаю над страницей номер 36\n",
      "Я работаю над страницей номер 37\n",
      "Я работаю над страницей номер 38\n",
      "Я работаю над страницей номер 39\n",
      "Я работаю над страницей номер 40\n",
      "Я работаю над страницей номер 41\n",
      "Я работаю над страницей номер 42\n",
      "Я работаю над страницей номер 43\n",
      "Я работаю над страницей номер 44\n",
      "Я работаю над страницей номер 45\n",
      "Я работаю над страницей номер 46\n",
      "Я работаю над страницей номер 47\n",
      "Я работаю над страницей номер 48\n",
      "Я работаю над страницей номер 49\n",
      "Я работаю над страницей номер 50\n",
      "Я работаю над страницей номер 51\n",
      "Я работаю над страницей номер 52\n",
      "Я работаю над страницей номер 53\n",
      "Я работаю над страницей номер 54\n",
      "Я работаю над страницей номер 55\n",
      "Я работаю над страницей номер 56\n",
      "Я работаю над страницей номер 57\n",
      "Я работаю над страницей номер 58\n",
      "Я работаю над страницей номер 59\n",
      "Я работаю над страницей номер 60\n",
      "Я работаю над страницей номер 61\n",
      "Я работаю над страницей номер 62\n",
      "Я работаю над страницей номер 63\n",
      "Я работаю над страницей номер 64\n",
      "Я работаю над страницей номер 65\n",
      "Я работаю над страницей номер 66\n",
      "Я работаю над страницей номер 67\n",
      "Я работаю над страницей номер 68\n",
      "Я работаю над страницей номер 69\n",
      "Я работаю над страницей номер 70\n",
      "Я работаю над страницей номер 71\n",
      "Я работаю над страницей номер 72\n",
      "Я работаю над страницей номер 73\n",
      "Я работаю над страницей номер 74\n",
      "Я работаю над страницей номер 75\n",
      "Я работаю над страницей номер 76\n",
      "Я работаю над страницей номер 77\n",
      "Я работаю над страницей номер 78\n",
      "Я работаю над страницей номер 79\n",
      "Я работаю над страницей номер 80\n",
      "Я работаю над страницей номер 81\n",
      "Я работаю над страницей номер 82\n",
      "Я работаю над страницей номер 83\n",
      "Я работаю над страницей номер 84\n",
      "Я работаю над страницей номер 85\n",
      "Я работаю над страницей номер 86\n",
      "Я работаю над страницей номер 87\n",
      "Я работаю над страницей номер 88\n",
      "Я работаю над страницей номер 89\n",
      "Я работаю над страницей номер 90\n",
      "Я работаю над страницей номер 91\n",
      "Я работаю над страницей номер 92\n",
      "Я работаю над страницей номер 93\n",
      "Я работаю над страницей номер 94\n",
      "Я работаю над страницей номер 95\n",
      "Я работаю над страницей номер 96\n",
      "Я работаю над страницей номер 97\n",
      "Я работаю над страницей номер 98\n",
      "Я работаю над страницей номер 99\n",
      "Я работаю над страницей номер 100\n",
      "Я работаю над страницей номер 101\n",
      "Я работаю над страницей номер 102\n",
      "Я работаю над страницей номер 103\n",
      "Я работаю над страницей номер 104\n",
      "Я работаю над страницей номер 105\n",
      "Я работаю над страницей номер 106\n",
      "Я работаю над страницей номер 107\n",
      "Я работаю над страницей номер 108\n",
      "Я работаю над страницей номер 109\n",
      "Я работаю над страницей номер 110\n",
      "Я работаю над страницей номер 111\n",
      "Я работаю над страницей номер 112\n",
      "Я работаю над страницей номер 113\n",
      "Я работаю над страницей номер 114\n",
      "Я работаю над страницей номер 115\n",
      "Я работаю над страницей номер 116\n",
      "Я работаю над страницей номер 117\n",
      "Я работаю над страницей номер 118\n",
      "Я работаю над страницей номер 119\n",
      "Я работаю над страницей номер 120\n",
      "Я работаю над страницей номер 121\n",
      "Я работаю над страницей номер 122\n",
      "Я работаю над страницей номер 123\n",
      "Я работаю над страницей номер 124\n",
      "Я работаю над страницей номер 125\n",
      "Я работаю над страницей номер 126\n",
      "Я работаю над страницей номер 127\n",
      "Я работаю над страницей номер 128\n",
      "Я работаю над страницей номер 129\n",
      "Я работаю над страницей номер 130\n",
      "Я работаю над страницей номер 131\n",
      "Я работаю над страницей номер 132\n",
      "Я работаю над страницей номер 133\n",
      "Я работаю над страницей номер 134\n",
      "Я работаю над страницей номер 135\n",
      "Я работаю над страницей номер 136\n",
      "Я работаю над страницей номер 137\n",
      "Я работаю над страницей номер 138\n",
      "Я работаю над страницей номер 139\n",
      "Я работаю над страницей номер 140\n",
      "Я работаю над страницей номер 141\n",
      "Я работаю над страницей номер 142\n",
      "Я работаю над страницей номер 143\n",
      "Я работаю над страницей номер 144\n",
      "Я работаю над страницей номер 145\n",
      "Я работаю над страницей номер 146\n",
      "Я работаю над страницей номер 147\n",
      "Я работаю над страницей номер 148\n",
      "Я работаю над страницей номер 149\n",
      "Я работаю над страницей номер 150\n",
      "Я работаю над страницей номер 151\n",
      "Я работаю над страницей номер 152\n",
      "Я работаю над страницей номер 153\n",
      "Я работаю над страницей номер 154\n",
      "Я работаю над страницей номер 155\n",
      "Я работаю над страницей номер 156\n",
      "Я работаю над страницей номер 157\n",
      "Я работаю над страницей номер 158\n",
      "Я работаю над страницей номер 159\n",
      "Я работаю над страницей номер 160\n",
      "Я работаю над страницей номер 161\n",
      "Я работаю над страницей номер 162\n",
      "Я работаю над страницей номер 163\n",
      "Я работаю над страницей номер 164\n",
      "Я работаю над страницей номер 165\n",
      "Я работаю над страницей номер 166\n",
      "Я работаю над страницей номер 167\n",
      "Я работаю над страницей номер 168\n",
      "Я работаю над страницей номер 169\n",
      "Я работаю над страницей номер 170\n",
      "Я работаю над страницей номер 171\n",
      "Я работаю над страницей номер 172\n",
      "Я работаю над страницей номер 173\n",
      "Я работаю над страницей номер 174\n",
      "Я работаю над страницей номер 175\n",
      "Я работаю над страницей номер 176\n",
      "Я работаю над страницей номер 177\n",
      "Я работаю над страницей номер 178\n",
      "Я работаю над страницей номер 179\n",
      "Я работаю над страницей номер 180\n",
      "Я работаю над страницей номер 181\n",
      "Я работаю над страницей номер 182\n",
      "Я работаю над страницей номер 183\n",
      "Я работаю над страницей номер 184\n",
      "Я работаю над страницей номер 185\n",
      "Я работаю над страницей номер 186\n",
      "Я работаю над страницей номер 187\n",
      "Я работаю над страницей номер 188\n",
      "Я работаю над страницей номер 189\n",
      "Я работаю над страницей номер 190\n",
      "Я работаю над страницей номер 191\n",
      "Я работаю над страницей номер 192\n",
      "Я работаю над страницей номер 193\n",
      "Я работаю над страницей номер 194\n",
      "Я работаю над страницей номер 195\n",
      "Я работаю над страницей номер 196\n",
      "Я работаю над страницей номер 197\n",
      "Я работаю над страницей номер 198\n",
      "Я работаю над страницей номер 199\n",
      "Я работаю над страницей номер 200\n",
      "Я работаю над страницей номер 201\n",
      "Я работаю над страницей номер 202\n",
      "Я работаю над страницей номер 203\n",
      "Я работаю над страницей номер 204\n",
      "Я работаю над страницей номер 205\n",
      "Я работаю над страницей номер 206\n",
      "Я работаю над страницей номер 207\n",
      "Я работаю над страницей номер 208\n",
      "Я работаю над страницей номер 209\n",
      "Я работаю над страницей номер 210\n",
      "Я работаю над страницей номер 211\n",
      "Я работаю над страницей номер 212\n",
      "Я работаю над страницей номер 213\n",
      "Я работаю над страницей номер 214\n",
      "Я работаю над страницей номер 215\n",
      "Я работаю над страницей номер 216\n",
      "Я работаю над страницей номер 217\n",
      "Я работаю над страницей номер 218\n",
      "Я работаю над страницей номер 219\n",
      "Я работаю над страницей номер 220\n",
      "Я работаю над страницей номер 221\n",
      "Я работаю над страницей номер 222\n",
      "Я работаю над страницей номер 223\n",
      "Я работаю над страницей номер 224\n",
      "Я работаю над страницей номер 225\n",
      "Я работаю над страницей номер 226\n",
      "Я работаю над страницей номер 227\n",
      "Я работаю над страницей номер 228\n",
      "Я работаю над страницей номер 229\n",
      "Я работаю над страницей номер 230\n",
      "Я работаю над страницей номер 231\n",
      "Я работаю над страницей номер 232\n",
      "Я работаю над страницей номер 233\n",
      "Я работаю над страницей номер 234\n",
      "Я работаю над страницей номер 235\n",
      "Я работаю над страницей номер 236\n",
      "Я работаю над страницей номер 237\n",
      "Я работаю над страницей номер 238\n",
      "Я работаю над страницей номер 239\n",
      "Я работаю над страницей номер 240\n",
      "Я работаю над страницей номер 241\n",
      "Я работаю над страницей номер 242\n",
      "Я работаю над страницей номер 243\n",
      "Я работаю над страницей номер 244\n",
      "Я работаю над страницей номер 245\n",
      "Я работаю над страницей номер 246\n",
      "Я работаю над страницей номер 247\n",
      "Я работаю над страницей номер 248\n",
      "Я работаю над страницей номер 249\n",
      "Я работаю над страницей номер 250\n",
      "Я работаю над страницей номер 251\n",
      "Я работаю над страницей номер 252\n",
      "Я работаю над страницей номер 253\n",
      "Я работаю над страницей номер 254\n",
      "Я работаю над страницей номер 255\n",
      "Я работаю над страницей номер 256\n",
      "Я работаю над страницей номер 257\n",
      "Я работаю над страницей номер 258\n",
      "Я работаю над страницей номер 259\n",
      "Я работаю над страницей номер 260\n",
      "Я работаю над страницей номер 261\n",
      "Я работаю над страницей номер 262\n",
      "Я работаю над страницей номер 263\n",
      "Я работаю над страницей номер 264\n",
      "Я работаю над страницей номер 265\n",
      "Я работаю над страницей номер 266\n",
      "Я работаю над страницей номер 267\n",
      "Я работаю над страницей номер 268\n",
      "Я работаю над страницей номер 269\n",
      "Я работаю над страницей номер 270\n",
      "Я работаю над страницей номер 271\n",
      "Я работаю над страницей номер 272\n",
      "Я работаю над страницей номер 273\n",
      "Я работаю над страницей номер 274\n",
      "Я работаю над страницей номер 275\n",
      "Я работаю над страницей номер 276\n",
      "Я работаю над страницей номер 277\n",
      "Я работаю над страницей номер 278\n",
      "Я работаю над страницей номер 279\n",
      "Я работаю над страницей номер 280\n",
      "Я работаю над страницей номер 281\n",
      "Я работаю над страницей номер 282\n",
      "Я работаю над страницей номер 283\n",
      "Я работаю над страницей номер 284\n",
      "Я работаю над страницей номер 285\n",
      "Я работаю над страницей номер 286\n",
      "Я работаю над страницей номер 287\n",
      "Я работаю над страницей номер 288\n",
      "Я работаю над страницей номер 289\n",
      "Я работаю над страницей номер 290\n",
      "Я работаю над страницей номер 291\n",
      "Я работаю над страницей номер 292\n",
      "Я работаю над страницей номер 293\n",
      "Я работаю над страницей номер 294\n",
      "Я работаю над страницей номер 295\n",
      "Я работаю над страницей номер 296\n",
      "Я работаю над страницей номер 297\n",
      "Я работаю над страницей номер 298\n",
      "Я работаю над страницей номер 299\n",
      "Я работаю над страницей номер 300\n",
      "Я работаю над страницей номер 301\n",
      "Я работаю над страницей номер 302\n",
      "Я закончил\n"
     ]
    }
   ],
   "source": [
    "flat_stats = ParseFlats(links_list)"
   ]
  },
  {
   "cell_type": "markdown",
   "metadata": {},
   "source": [
    "#### Проверяем"
   ]
  },
  {
   "cell_type": "code",
   "execution_count": 39,
   "metadata": {
    "collapsed": false
   },
   "outputs": [
    {
     "data": {
      "text/html": [
       "<div>\n",
       "<table border=\"1\" class=\"dataframe\">\n",
       "  <thead>\n",
       "    <tr style=\"text-align: right;\">\n",
       "      <th></th>\n",
       "      <th>N</th>\n",
       "      <th>Rooms</th>\n",
       "      <th>Price</th>\n",
       "      <th>Totsp</th>\n",
       "      <th>Livesp</th>\n",
       "      <th>Kitsp</th>\n",
       "      <th>Dist</th>\n",
       "      <th>Metrdist</th>\n",
       "      <th>Walk</th>\n",
       "      <th>Brick</th>\n",
       "      <th>Bal</th>\n",
       "      <th>Floor</th>\n",
       "      <th>Nfloors</th>\n",
       "      <th>New</th>\n",
       "    </tr>\n",
       "  </thead>\n",
       "  <tbody>\n",
       "    <tr>\n",
       "      <th>0</th>\n",
       "      <td>1.0</td>\n",
       "      <td>2</td>\n",
       "      <td>69894300.0</td>\n",
       "      <td>80.2</td>\n",
       "      <td>56.6</td>\n",
       "      <td>5.7</td>\n",
       "      <td>3.35496</td>\n",
       "      <td>3</td>\n",
       "      <td>1</td>\n",
       "      <td>1.0</td>\n",
       "      <td>0.0</td>\n",
       "      <td>11.0</td>\n",
       "      <td>12.0</td>\n",
       "      <td>1.0</td>\n",
       "    </tr>\n",
       "    <tr>\n",
       "      <th>1</th>\n",
       "      <td>2.0</td>\n",
       "      <td>3</td>\n",
       "      <td>67800000.0</td>\n",
       "      <td>125.0</td>\n",
       "      <td>85.8</td>\n",
       "      <td>11.7</td>\n",
       "      <td>3.29872</td>\n",
       "      <td>6</td>\n",
       "      <td>1</td>\n",
       "      <td>0.0</td>\n",
       "      <td>1.0</td>\n",
       "      <td>5.0</td>\n",
       "      <td>9.0</td>\n",
       "      <td>0.0</td>\n",
       "    </tr>\n",
       "    <tr>\n",
       "      <th>2</th>\n",
       "      <td>3.0</td>\n",
       "      <td>3</td>\n",
       "      <td>129000000.0</td>\n",
       "      <td>138.4</td>\n",
       "      <td>()</td>\n",
       "      <td>()</td>\n",
       "      <td>5.60862</td>\n",
       "      <td>8</td>\n",
       "      <td>1</td>\n",
       "      <td>0.0</td>\n",
       "      <td>0.0</td>\n",
       "      <td>5.0</td>\n",
       "      <td>11.0</td>\n",
       "      <td>0.0</td>\n",
       "    </tr>\n",
       "    <tr>\n",
       "      <th>3</th>\n",
       "      <td>4.0</td>\n",
       "      <td>5</td>\n",
       "      <td>1730000.0</td>\n",
       "      <td>194.2</td>\n",
       "      <td>1</td>\n",
       "      <td>()</td>\n",
       "      <td>3.74535</td>\n",
       "      <td>9</td>\n",
       "      <td>1</td>\n",
       "      <td>0.0</td>\n",
       "      <td>1.0</td>\n",
       "      <td>10.0</td>\n",
       "      <td>13.0</td>\n",
       "      <td>0.0</td>\n",
       "    </tr>\n",
       "    <tr>\n",
       "      <th>4</th>\n",
       "      <td>5.0</td>\n",
       "      <td>1</td>\n",
       "      <td>4403057.0</td>\n",
       "      <td>22.7</td>\n",
       "      <td>22.7</td>\n",
       "      <td>()</td>\n",
       "      <td>6.42430</td>\n",
       "      <td>6</td>\n",
       "      <td>1</td>\n",
       "      <td>0.0</td>\n",
       "      <td>0.0</td>\n",
       "      <td>3.0</td>\n",
       "      <td>3.0</td>\n",
       "      <td>1.0</td>\n",
       "    </tr>\n",
       "  </tbody>\n",
       "</table>\n",
       "</div>"
      ],
      "text/plain": [
       "     N Rooms        Price  Totsp Livesp Kitsp     Dist Metrdist Walk  Brick  \\\n",
       "0  1.0     2   69894300.0   80.2   56.6   5.7  3.35496        3    1    1.0   \n",
       "1  2.0     3   67800000.0  125.0   85.8  11.7  3.29872        6    1    0.0   \n",
       "2  3.0     3  129000000.0  138.4     ()    ()  5.60862        8    1    0.0   \n",
       "3  4.0     5    1730000.0  194.2      1    ()  3.74535        9    1    0.0   \n",
       "4  5.0     1    4403057.0   22.7   22.7    ()  6.42430        6    1    0.0   \n",
       "\n",
       "   Bal  Floor  Nfloors  New  \n",
       "0  0.0   11.0     12.0  1.0  \n",
       "1  1.0    5.0      9.0  0.0  \n",
       "2  0.0    5.0     11.0  0.0  \n",
       "3  1.0   10.0     13.0  0.0  \n",
       "4  0.0    3.0      3.0  1.0  "
      ]
     },
     "execution_count": 39,
     "metadata": {},
     "output_type": "execute_result"
    }
   ],
   "source": [
    "flat_stats.head()"
   ]
  },
  {
   "cell_type": "markdown",
   "metadata": {},
   "source": [
    "Эврика!"
   ]
  },
  {
   "cell_type": "markdown",
   "metadata": {},
   "source": [
    "## Выгружаем в файл"
   ]
  },
  {
   "cell_type": "code",
   "execution_count": 36,
   "metadata": {
    "collapsed": false
   },
   "outputs": [],
   "source": [
    "flat_stats.to_csv('D:/CMF/ciandata1.csv')"
   ]
  }
 ],
 "metadata": {
  "anaconda-cloud": {},
  "kernelspec": {
   "display_name": "Python [conda root]",
   "language": "python",
   "name": "conda-root-py"
  },
  "language_info": {
   "codemirror_mode": {
    "name": "ipython",
    "version": 3
   },
   "file_extension": ".py",
   "mimetype": "text/x-python",
   "name": "python",
   "nbconvert_exporter": "python",
   "pygments_lexer": "ipython3",
   "version": "3.5.2"
  }
 },
 "nbformat": 4,
 "nbformat_minor": 1
}
