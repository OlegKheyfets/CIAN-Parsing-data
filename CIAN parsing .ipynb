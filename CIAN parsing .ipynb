{
 "cells": [
  {
   "cell_type": "code",
   "execution_count": 13,
   "metadata": {
    "collapsed": true
   },
   "outputs": [],
   "source": [
    "import requests\n",
    "import re\n",
    "from bs4 import BeautifulSoup\n",
    "import pandas as pd\n",
    "import time"
   ]
  },
  {
   "cell_type": "code",
   "execution_count": 14,
   "metadata": {
    "collapsed": true
   },
   "outputs": [],
   "source": [
    "def html_stripper(text):\n",
    "    return re.sub('<[^<]+?>', '', str(text))"
   ]
  },
  {
   "cell_type": "markdown",
   "metadata": {},
   "source": [
    "# Цена"
   ]
  },
  {
   "cell_type": "markdown",
   "metadata": {},
   "source": [
    "Парсить цену можно двумя способами: доставать из раздела, который выводит цену на экран или из раздела 'itemprop', в котором тоже записана цена. "
   ]
  },
  {
   "cell_type": "code",
   "execution_count": 15,
   "metadata": {
    "collapsed": true
   },
   "outputs": [],
   "source": [
    "def find_element(element, list_element):\n",
    "    try:\n",
    "        index_element = list_element.index(element)\n",
    "        return index_element+1\n",
    "    except ValueError:\n",
    "        return 0"
   ]
  },
  {
   "cell_type": "code",
   "execution_count": 16,
   "metadata": {
    "collapsed": true
   },
   "outputs": [],
   "source": [
    "def getPrice(flat_page):\n",
    "    try:\n",
    "        price = flat_page.find('div', attrs={'class':'object_descr_price'})\n",
    "        price = re.split('<div>|за м<sup>2</sup>|\\n|80800|руб|\\W', str(price))\n",
    "        price = [i for i in price if i.isdigit()]\n",
    "        indextilda = find_element('808080',price)\n",
    "        price1 = \"\".join([i for i in price if i.isdigit()][(indextilda):])\n",
    "        return int(price1)\n",
    "    except:\n",
    "        return ()"
   ]
  },
  {
   "cell_type": "markdown",
   "metadata": {},
   "source": [
    "# Количество комнат"
   ]
  },
  {
   "cell_type": "code",
   "execution_count": 17,
   "metadata": {
    "collapsed": true
   },
   "outputs": [],
   "source": [
    "def getRoom(flat_page):\n",
    "    try: \n",
    "        rooms = flat_page.find('div', attrs={'class':'object_descr_title'})\n",
    "        rooms = html_stripper(rooms)\n",
    "        room_number = ''\n",
    "        for i in re.split('-|\\n', rooms):\n",
    "            if 'комн' in i:\n",
    "                break\n",
    "            else:\n",
    "                room_number += i\n",
    "        room_number = \"\".join(room_number.split())\n",
    "        return room_number\n",
    "    except:\n",
    "        return ()"
   ]
  },
  {
   "cell_type": "markdown",
   "metadata": {},
   "source": [
    "# Общая площадь"
   ]
  },
  {
   "cell_type": "code",
   "execution_count": 1,
   "metadata": {
    "collapsed": true
   },
   "outputs": [],
   "source": [
    "def getTotsp (flat_page):\n",
    "    try:\n",
    "        table = flat_page.find('table', attrs = {'class':'object_descr_props'})\n",
    "        table = html_stripper(table)\n",
    "        tspace = re.split('Общая площадь|Площадь комнат', table)[1]\n",
    "        tspace1 = re.split('-|\\n', tspace)\n",
    "        tspace1 = re.split('\\xa0|м2',tspace1[2])\n",
    "        tspace2 = \"\".join([i for i in tspace1[0] if i.isdigit()])\n",
    "        if len(tspace1[0]) != len(tspace2):\n",
    "            totsp = int(tspace2)/10\n",
    "        else:\n",
    "            totsp = int(tspace2)\n",
    "        return totsp\n",
    "    except: \n",
    "        return ()"
   ]
  },
  {
   "cell_type": "markdown",
   "metadata": {},
   "source": [
    "# Общая жилая площадь"
   ]
  },
  {
   "cell_type": "code",
   "execution_count": 2,
   "metadata": {
    "collapsed": true
   },
   "outputs": [],
   "source": [
    "def getLivesp (flat_page):\n",
    "    try:\n",
    "        table = flat_page.find('table', attrs = {'class':'object_descr_props'})\n",
    "        table = html_stripper(table)\n",
    "        lspace = re.split('Жилая площадь|Площадь кухни', table)[1]\n",
    "        lspace1 = re.split('-|\\n', lspace)\n",
    "        lspace1 = re.split('\\xa0|м2',lspace1[2])\n",
    "        lspace2 = \"\".join([i for i in lspace1[0] if i.isdigit()]) #В случае нецелых значений \n",
    "        if len(lspace1[0]) != len(lspace2):#В случае нецелых значений площади\n",
    "            livesp = int(lspace2)/10\n",
    "        else:\n",
    "            livesp = int(lspace2)\n",
    "        return livesp\n",
    "    except:\n",
    "        return()\n",
    "    "
   ]
  },
  {
   "cell_type": "markdown",
   "metadata": {},
   "source": [
    "# Площадь кухни"
   ]
  },
  {
   "cell_type": "code",
   "execution_count": 3,
   "metadata": {
    "collapsed": true
   },
   "outputs": [],
   "source": [
    "def getKitsp (flat_page):\n",
    "    try:\n",
    "        table = flat_page.find('table', attrs = {'class':'object_descr_props'})\n",
    "        table = html_stripper(table)\n",
    "        kitsp = re.split('Площадь кухни|Санузел', table)[1]\n",
    "        kitsp1 = re.split('-|\\n', kitsp)\n",
    "        kitsp1 = re.split('\\xa0|м2',kitsp1[2])\n",
    "        kitsp2 = \"\".join([i for i in kitsp1[0] if i.isdigit()])\n",
    "        if len(kitsp1[0]) != len(kitsp2):\n",
    "            kitspace = int(kitsp2)/10\n",
    "        else:\n",
    "            kitspace = int(kitsp2)\n",
    "        return kitspace\n",
    "    except:\n",
    "        return()\n",
    "    "
   ]
  },
  {
   "cell_type": "markdown",
   "metadata": {},
   "source": [
    "# Расстояние до центра"
   ]
  },
  {
   "cell_type": "markdown",
   "metadata": {},
   "source": [
    "Центром условно будем считать Нулевой километр.\n",
    "Расстояние просто рассчитаем по теореме Пифагора."
   ]
  },
  {
   "cell_type": "code",
   "execution_count": 4,
   "metadata": {
    "collapsed": true
   },
   "outputs": [],
   "source": [
    "def getDist(flat_page):\n",
    "    try:\n",
    "        coords = flat_page.find('div', attrs={'class':'map_info_button_extend'}).contents[1]\n",
    "        coords = re.split('&amp|center=|%2C', str(coords))\n",
    "        coords_list = []\n",
    "        for item in coords:\n",
    "            if item[0].isdigit():\n",
    "                coords_list.append(item)\n",
    "        lat = float(coords_list[0])\n",
    "        lon = float(coords_list[1])\n",
    "        clat = 55.755831\n",
    "        clon = 37.617673\n",
    "        dist = ((clat-lat)**2 + (clon-lon)**2)**0.5\n",
    "        dist = round(dist*111.134861111,5)\n",
    "        return dist\n",
    "    except:\n",
    "        ()"
   ]
  },
  {
   "cell_type": "markdown",
   "metadata": {},
   "source": [
    "# Расстояние до метро в минутах"
   ]
  },
  {
   "cell_type": "code",
   "execution_count": 43,
   "metadata": {
    "collapsed": true
   },
   "outputs": [],
   "source": [
    "def getMetrdist (flat_page):\n",
    "    try:\n",
    "        metrdist = flat_page.find('span', attrs={'class':'object_item_metro_comment'}).contents[0]\n",
    "        metrdist1 = re.split('\\n',metrdist)\n",
    "        return int(metrdist1[1].strip())\n",
    "    except:\n",
    "        return ()"
   ]
  },
  {
   "cell_type": "markdown",
   "metadata": {},
   "source": [
    "# Пешая доступность метро"
   ]
  },
  {
   "cell_type": "code",
   "execution_count": 44,
   "metadata": {
    "collapsed": true
   },
   "outputs": [],
   "source": [
    "def getWalk (flat_page):\n",
    "    try:\n",
    "        metrdist = flat_page.find('span', attrs={'class':'object_item_metro_comment'}).contents[0]\n",
    "        walk = re.split('\\n',metrdist)\n",
    "        walk = walk[4].strip()\n",
    "        if walk == 'пешком':\n",
    "            return 1\n",
    "        else:\n",
    "            return 0\n",
    "    except:\n",
    "        return ()"
   ]
  },
  {
   "cell_type": "code",
   "execution_count": 97,
   "metadata": {
    "collapsed": false
   },
   "outputs": [
    {
     "ename": "AttributeError",
     "evalue": "'NoneType' object has no attribute 'contents'",
     "output_type": "error",
     "traceback": [
      "\u001b[0;31m---------------------------------------------------------------------------\u001b[0m",
      "\u001b[0;31mAttributeError\u001b[0m                            Traceback (most recent call last)",
      "\u001b[0;32m<ipython-input-97-7c81c1b471eb>\u001b[0m in \u001b[0;36m<module>\u001b[0;34m()\u001b[0m\n\u001b[1;32m      1\u001b[0m \u001b[0mflat_page\u001b[0m \u001b[1;33m=\u001b[0m \u001b[0mgetPage\u001b[0m\u001b[1;33m(\u001b[0m\u001b[0mgetSubpageLink\u001b[0m\u001b[1;33m(\u001b[0m\u001b[1;34m'29864440'\u001b[0m\u001b[1;33m)\u001b[0m\u001b[1;33m)\u001b[0m\u001b[1;33m\u001b[0m\u001b[0m\n\u001b[0;32m----> 2\u001b[0;31m \u001b[0mmetrdist\u001b[0m \u001b[1;33m=\u001b[0m \u001b[0mflat_page\u001b[0m\u001b[1;33m.\u001b[0m\u001b[0mfind\u001b[0m\u001b[1;33m(\u001b[0m\u001b[1;34m'span'\u001b[0m\u001b[1;33m,\u001b[0m \u001b[0mattrs\u001b[0m\u001b[1;33m=\u001b[0m\u001b[1;33m{\u001b[0m\u001b[1;34m'class'\u001b[0m\u001b[1;33m:\u001b[0m\u001b[1;34m'object_item_metro_comment'\u001b[0m\u001b[1;33m}\u001b[0m\u001b[1;33m)\u001b[0m\u001b[1;33m.\u001b[0m\u001b[0mcontents\u001b[0m\u001b[1;33m[\u001b[0m\u001b[1;36m0\u001b[0m\u001b[1;33m]\u001b[0m\u001b[1;33m\u001b[0m\u001b[0m\n\u001b[0m",
      "\u001b[0;31mAttributeError\u001b[0m: 'NoneType' object has no attribute 'contents'"
     ]
    }
   ],
   "source": [
    "flat_page = getPage(getSubpageLink('29864440'))\n",
    "metrdist = flat_page.find('span', attrs={'class':'object_item_metro_comment'}).contents[0]"
   ]
  },
  {
   "cell_type": "markdown",
   "metadata": {},
   "source": [
    "# Основной материал здания"
   ]
  },
  {
   "cell_type": "code",
   "execution_count": 45,
   "metadata": {
    "collapsed": true
   },
   "outputs": [],
   "source": [
    "def getBrick(flat_page):\n",
    "    try:\n",
    "        table = flat_page.find('table', attrs = {'class':'object_descr_props'})\n",
    "        table = html_stripper(table)\n",
    "        Brick = re.split('Тип дома|Тип продажи', table)[1]\n",
    "        Brick1 = re.split('\\n', Brick)\n",
    "        if Brick1[3].strip() != '':\n",
    "            Brick1 = Brick1[3].strip()\n",
    "        if Brick1 == ('кирпичный' or 'жб' or 'кирпично-монолитный'):\n",
    "            answer = 1\n",
    "        elif Brick1 == ('монолитный'):\n",
    "            answer = 1\n",
    "        else:\n",
    "            answer = 0\n",
    "        return answer\n",
    "    except: \n",
    "        return ()"
   ]
  },
  {
   "cell_type": "markdown",
   "metadata": {},
   "source": [
    "# Наличие балкона/лоджии"
   ]
  },
  {
   "cell_type": "code",
   "execution_count": 46,
   "metadata": {
    "collapsed": true
   },
   "outputs": [],
   "source": [
    "def getBal(flat_page):\n",
    "    try:\n",
    "        table = flat_page.find('table', attrs = {'class':'object_descr_props'})\n",
    "        table = html_stripper(table)\n",
    "        bal = re.split('Балкон|Лифт', table)[1]\n",
    "        bal1 = re.split('\\n', bal)\n",
    "        if bal1[1][0].isdigit():\n",
    "            return 1\n",
    "        else: \n",
    "            return 0\n",
    "    except: \n",
    "        return ()"
   ]
  },
  {
   "cell_type": "markdown",
   "metadata": {},
   "source": [
    "# Этаж, на котором расположена квартира"
   ]
  },
  {
   "cell_type": "code",
   "execution_count": 20,
   "metadata": {
    "collapsed": true
   },
   "outputs": [],
   "source": [
    "def getFloor (flat_page):\n",
    "    try:\n",
    "        table = flat_page.find('table', attrs = {'class':'object_descr_props'})\n",
    "        table = html_stripper(table)\n",
    "        floor_nfl = re.split('Этаж|Тип дома', table)[1]\n",
    "        floor = re.split('-|\\n', floor_nfl)[2]\n",
    "        floor = re.split('-|\\n|/|\\xa0', floor_nfl)[2]\n",
    "        return int(floor.strip())\n",
    "    except:\n",
    "        return ()"
   ]
  },
  {
   "cell_type": "markdown",
   "metadata": {},
   "source": [
    "# Количество этажей в доме"
   ]
  },
  {
   "cell_type": "code",
   "execution_count": 74,
   "metadata": {
    "collapsed": false
   },
   "outputs": [],
   "source": [
    "def getNfloors (flat_page):\n",
    "    try:\n",
    "        table = flat_page.find('table', attrs = {'class':'object_descr_props'})\n",
    "        table = html_stripper(table)\n",
    "        floor_nfl = re.split('Этаж|Тип дома', table)[1]\n",
    "        nfloor = re.split('-|\\n', floor_nfl)[2]\n",
    "        nfloor = re.split('-|\\n|/|\\xa0', floor_nfl)[5]\n",
    "        return int(nfloor)\n",
    "    except:\n",
    "        nfloor = re.split('-|\\n|/|\\xa0', floor_nfl)[2]\n",
    "        nfloor = \"\".join([i for i in nfloor if i.isdigit()])\n",
    "        return int(nfloor)"
   ]
  },
  {
   "cell_type": "markdown",
   "metadata": {},
   "source": [
    "# Новая ли квартира"
   ]
  },
  {
   "cell_type": "code",
   "execution_count": 81,
   "metadata": {
    "collapsed": true
   },
   "outputs": [],
   "source": [
    "def getNew (flat_page):\n",
    "    try:\n",
    "        table = flat_page.find('table', attrs = {'class':'object_descr_props'})\n",
    "        table = html_stripper(table)\n",
    "        New = re.split('Тип дома|Тип продажи', table)[1]\n",
    "        New1 = re.split('\\n', New)\n",
    "        New1 = New1[2].strip()\n",
    "        New1 = New1.replace(',','')\n",
    "        if New1 == 'вторичка':\n",
    "            return 0\n",
    "        elif New1 == 'новостройка':\n",
    "            return 1\n",
    "        else:\n",
    "            return ()\n",
    "    except: \n",
    "        return ()"
   ]
  },
  {
   "cell_type": "markdown",
   "metadata": {},
   "source": [
    "# Дальше нужно узнать, в каких районах собирать данные"
   ]
  },
  {
   "cell_type": "code",
   "execution_count": 80,
   "metadata": {
    "collapsed": true
   },
   "outputs": [],
   "source": [
    "#Через раздел расширенного поиска узнаем все основные районы (адимнистративные округа) Москвы и по порядку берем ссылки на квартиры из этого района\n",
    "Names = ['ЦАО','САО', 'СВАО', 'ВАО','ЮВАО', 'ЮАО','ЮЗАО','ЗАО','СЗАО','ЗелАО','НАО', 'ТАО']\n",
    "districts = ['http://www.cian.ru/cat.php?deal_type=sale&district%5B0%5D=13&district%5B1%5D=14&district%5B2%5D=15&district%5B3%5D=16&district%5B4%5D=17&district%5B5%5D=18&district%5B6%5D=19&district%5B7%5D=20&district%5B8%5D=21&district%5B9%5D=22&engine_version=2&offer_type=flat&p={}&room1=1&room2=1&room3=1&room4=1&room5=1&room6=1',\n",
    "           'http://www.cian.ru/cat.php?deal_type=sale&district%5B0%5D=23&district%5B10%5D=33&district%5B11%5D=34&district%5B12%5D=35&district%5B13%5D=36&district%5B14%5D=37&district%5B15%5D=38&district%5B1%5D=24&district%5B2%5D=25&district%5B3%5D=26&district%5B4%5D=27&district%5B5%5D=28&district%5B6%5D=29&district%5B7%5D=30&district%5B8%5D=31&district%5B9%5D=32&engine_version=2&offer_type=flat&p={}&room1=1&room2=1&room3=1&room4=1&room5=1&room6=1',\n",
    "           'http://www.cian.ru/cat.php?deal_type=sale&district%5B0%5D=39&district%5B10%5D=49&district%5B11%5D=50&district%5B12%5D=51&district%5B13%5D=52&district%5B14%5D=53&district%5B15%5D=54&district%5B16%5D=55&district%5B1%5D=40&district%5B2%5D=41&district%5B3%5D=42&district%5B4%5D=43&district%5B5%5D=44&district%5B6%5D=45&district%5B7%5D=46&district%5B8%5D=47&district%5B9%5D=48&engine_version=2&offer_type=flat&p={}&room1=1&room2=1&room3=1&room4=1&room5=1&room6=1',\n",
    "           'http://www.cian.ru/cat.php?deal_type=sale&district%5B0%5D=56&district%5B10%5D=66&district%5B11%5D=67&district%5B12%5D=68&district%5B13%5D=69&district%5B14%5D=70&district%5B15%5D=71&district%5B1%5D=57&district%5B2%5D=58&district%5B3%5D=59&district%5B4%5D=60&district%5B5%5D=61&district%5B6%5D=62&district%5B7%5D=63&district%5B8%5D=64&district%5B9%5D=65&engine_version=2&offer_type=flat&p={}&room1=1&room2=1&room3=1&room4=1&room5=1&room6=1',\n",
    "           'http://www.cian.ru/cat.php?deal_type=sale&district%5B0%5D=72&district%5B10%5D=82&district%5B11%5D=83&district%5B1%5D=73&district%5B2%5D=74&district%5B3%5D=75&district%5B4%5D=76&district%5B5%5D=77&district%5B6%5D=78&district%5B7%5D=79&district%5B8%5D=80&district%5B9%5D=81&engine_version=2&offer_type=flat&p={}&room1=1&room2=1&room3=1&room4=1&room5=1&room6=1',\n",
    "           'http://www.cian.ru/cat.php?deal_type=sale&district%5B0%5D=84&district%5B10%5D=94&district%5B11%5D=95&district%5B12%5D=96&district%5B13%5D=97&district%5B14%5D=98&district%5B15%5D=99&district%5B1%5D=85&district%5B2%5D=86&district%5B3%5D=87&district%5B4%5D=88&district%5B5%5D=89&district%5B6%5D=90&district%5B7%5D=91&district%5B8%5D=92&district%5B9%5D=93&engine_version=2&offer_type=flat&p={}&room1=1&room2=1&room3=1&room4=1&room5=1&room6=1',\n",
    "           'http://www.cian.ru/cat.php?deal_type=sale&district%5B0%5D=100&district%5B10%5D=110&district%5B11%5D=111&district%5B1%5D=101&district%5B2%5D=102&district%5B3%5D=103&district%5B4%5D=104&district%5B5%5D=105&district%5B6%5D=106&district%5B7%5D=107&district%5B8%5D=108&district%5B9%5D=109&engine_version=2&offer_type=flat&p={}&room1=1&room2=1&room3=1&room4=1&room5=1&room6=1',\n",
    "           'http://www.cian.ru/cat.php?deal_type=sale&district%5B0%5D=112&district%5B10%5D=122&district%5B11%5D=123&district%5B12%5D=124&district%5B13%5D=348&district%5B14%5D=349&district%5B15%5D=350&district%5B1%5D=113&district%5B2%5D=114&district%5B3%5D=115&district%5B4%5D=116&district%5B5%5D=117&district%5B6%5D=118&district%5B7%5D=119&district%5B8%5D=120&district%5B9%5D=121&engine_version=2&offer_type=flat&p={}&room1=1&room2=1&room3=1&room4=1&room5=1&room6=1',\n",
    "           'http://www.cian.ru/cat.php?deal_type=sale&district%5B0%5D=125&district%5B1%5D=126&district%5B2%5D=127&district%5B3%5D=128&district%5B4%5D=129&district%5B5%5D=130&district%5B6%5D=131&district%5B7%5D=132&engine_version=2&offer_type=flat&p={}&room1=1&room2=1&room3=1&room4=1&room5=1&room6=1',\n",
    "           'http://www.cian.ru/cat.php?deal_type=sale&district%5B0%5D=152&district%5B1%5D=153&district%5B2%5D=154&district%5B3%5D=355&district%5B4%5D=356&district%5B5%5D=357&district%5B6%5D=358&engine_version=2&offer_type=flat&p={}&room1=1&room2=1&room3=1&room4=1&room5=1&room6=1',\n",
    "           'http://www.cian.ru/cat.php?deal_type=sale&district%5B0%5D=327&district%5B10%5D=337&district%5B1%5D=328&district%5B2%5D=329&district%5B3%5D=330&district%5B4%5D=331&district%5B5%5D=332&district%5B6%5D=333&district%5B7%5D=334&district%5B8%5D=335&district%5B9%5D=336&engine_version=2&offer_type=flat&p={}&room1=1&room2=1&room3=1&room4=1&room5=1&room6=1',\n",
    "           'http://www.cian.ru/cat.php?deal_type=sale&district%5B0%5D=338&district%5B1%5D=339&district%5B2%5D=340&district%5B3%5D=341&district%5B4%5D=342&district%5B5%5D=343&district%5B6%5D=344&district%5B7%5D=345&district%5B8%5D=346&district%5B9%5D=347&engine_version=2&offer_type=flat&p={}&room1=1&room2=1&room3=1&room4=1&room5=1&room6=1']"
   ]
  },
  {
   "cell_type": "code",
   "execution_count": 82,
   "metadata": {
    "collapsed": true
   },
   "outputs": [],
   "source": [
    "def getPage(link):\n",
    "    page = requests.get(link).content\n",
    "    page = BeautifulSoup(page, 'lxml')\n",
    "    return page"
   ]
  },
  {
   "cell_type": "code",
   "execution_count": 83,
   "metadata": {
    "collapsed": true
   },
   "outputs": [],
   "source": [
    "\n",
    "def getSubpageLink(link):\n",
    "    return 'http://www.cian.ru/sale/flat/' + str(link) + '/'\n"
   ]
  },
  {
   "cell_type": "code",
   "execution_count": null,
   "metadata": {
    "collapsed": true
   },
   "outputs": [],
   "source": []
  },
  {
   "cell_type": "code",
   "execution_count": 78,
   "metadata": {
    "collapsed": false
   },
   "outputs": [],
   "source": [
    "from collections import OrderedDict #Для удаления повторений"
   ]
  },
  {
   "cell_type": "code",
   "execution_count": 76,
   "metadata": {
    "collapsed": false
   },
   "outputs": [],
   "source": [
    "def getLinks0(district, pages):\n",
    "    for page in range(1, 30):\n",
    "        page_url =  district.format(page)\n",
    "\n",
    "        search_page = requests.get(page_url)\n",
    "        search_page = search_page.content\n",
    "        search_page = BeautifulSoup(search_page, 'lxml')\n",
    "\n",
    "        flat_urls = search_page.findAll('div', attrs = {'ng-class':\"{'serp-item_removed': offer.remove.state, 'serp-item_popup-opened': isPopupOpen}\"})\n",
    "        flat_urls = re.split('http://www.cian.ru/sale/flat/|/\" ng-class=\"', str(flat_urls))\n",
    "\n",
    "        for link in flat_urls:\n",
    "            if link.isdigit():\n",
    "                links.append(link)\n",
    "    return links"
   ]
  },
  {
   "cell_type": "code",
   "execution_count": 84,
   "metadata": {
    "collapsed": false
   },
   "outputs": [
    {
     "data": {
      "text/plain": [
       "12"
      ]
     },
     "execution_count": 84,
     "metadata": {},
     "output_type": "execute_result"
    }
   ],
   "source": [
    "len(districts)"
   ]
  },
  {
   "cell_type": "markdown",
   "metadata": {},
   "source": [
    "## Сначала соберем все ссылки по районам"
   ]
  },
  {
   "cell_type": "code",
   "execution_count": 85,
   "metadata": {
    "collapsed": false
   },
   "outputs": [],
   "source": [
    "links = []\n",
    "links_final = []\n",
    "for i in range(len(districts)):\n",
    "    links = []\n",
    "    links = getLinks0(districts[i], pages = range(1,30,1))\n",
    "    links_final.append(links)"
   ]
  },
  {
   "cell_type": "markdown",
   "metadata": {},
   "source": [
    "### Теперь объединим все ссылки в один список"
   ]
  },
  {
   "cell_type": "code",
   "execution_count": 87,
   "metadata": {
    "collapsed": false
   },
   "outputs": [],
   "source": [
    "links_list = []\n",
    "for i in range(len(links_final)):\n",
    "    for j in range(len(links_final[i])):\n",
    "        links_list.append(links_final[i][j])"
   ]
  },
  {
   "cell_type": "code",
   "execution_count": 89,
   "metadata": {
    "collapsed": false
   },
   "outputs": [
    {
     "data": {
      "text/plain": [
       "'150951661'"
      ]
     },
     "execution_count": 89,
     "metadata": {},
     "output_type": "execute_result"
    }
   ],
   "source": [
    "link = links_final[0][1]\n",
    "link"
   ]
  },
  {
   "cell_type": "markdown",
   "metadata": {
    "collapsed": false
   },
   "source": [
    "Функция, которая будет считать порядковый номер квартиры"
   ]
  },
  {
   "cell_type": "code",
   "execution_count": 41,
   "metadata": {
    "collapsed": true
   },
   "outputs": [],
   "source": [
    "def getN(number_iter):\n",
    "    return number_iter + 1"
   ]
  },
  {
   "cell_type": "code",
   "execution_count": 99,
   "metadata": {
    "collapsed": false
   },
   "outputs": [
    {
     "data": {
      "text/plain": [
       "2"
      ]
     },
     "execution_count": 99,
     "metadata": {},
     "output_type": "execute_result"
    }
   ],
   "source": []
  },
  {
   "cell_type": "markdown",
   "metadata": {
    "collapsed": true
   },
   "source": [
    "Итоговая функция"
   ]
  },
  {
   "cell_type": "code",
   "execution_count": 100,
   "metadata": {
    "collapsed": false
   },
   "outputs": [],
   "source": [
    "def ParseFlats(all_links):\n",
    "    flatStats = pd.DataFrame(columns=['N', 'Rooms', 'Price', 'Totsp', 'Livesp', 'Kitsp', 'Dist', \n",
    "                 'Metrdist', 'Walk', 'Brick', 'Bal', 'Floor', 'Nfloors', 'New'])\n",
    "    count = 0\n",
    "    imax = len(all_links)\n",
    "    for i in range(len(all_links)):\n",
    "        link = all_links[i]\n",
    "        try: \n",
    "            flat_page = getPage(getSubpageLink(link))\n",
    "            to_append = {'N': getN(count), 'Rooms': getRoom(flat_page), 'Price': getPrice(flat_page), 'Totsp': getTotsp(flat_page), 'Livesp': getLivesp(flat_page), 'Kitsp': getKitsp(flat_page), 'Dist': getDist(flat_page), 'Metrdist': getMetrdist(flat_page), 'Walk': getWalk(flat_page), 'Brick': getBrick(flat_page), 'Bal': getBal(flat_page), 'Floor': getFloor(flat_page), 'Nfloors': getNfloors(flat_page), 'New': getNew(flat_page)}\n",
    "            flatStats = flatStats.append(to_append, ignore_index=True)\n",
    "            count +=1 \n",
    "            if count % 30 == 0:\n",
    "                print('Я работаю над страницей номер {}'.format(int(count/30+1)))\n",
    "        except:\n",
    "            print('Whoops, something weird with link {}.'.format(link))\n",
    "    print ('Я закончил')\n",
    "    return flatStats"
   ]
  },
  {
   "cell_type": "code",
   "execution_count": null,
   "metadata": {
    "collapsed": false
   },
   "outputs": [
    {
     "name": "stdout",
     "output_type": "stream",
     "text": [
      "Я работаю над страницей номер 7\n",
      "Я работаю над страницей номер 13\n",
      "Я работаю над страницей номер 19\n",
      "Whoops, something weird with link 150713491.\n",
      "Я работаю над страницей номер 25\n",
      "Я работаю над страницей номер 31\n",
      "Я работаю над страницей номер 37\n",
      "Я работаю над страницей номер 43\n"
     ]
    }
   ],
   "source": [
    "ParseFlats(links_list)"
   ]
  },
  {
   "cell_type": "markdown",
   "metadata": {},
   "source": [
    "## Выгружаем в файл"
   ]
  },
  {
   "cell_type": "code",
   "execution_count": 94,
   "metadata": {
    "collapsed": true
   },
   "outputs": [],
   "source": [
    "flatStats.to_csv('D:/CMF/ciandata.csv')"
   ]
  }
 ],
 "metadata": {
  "anaconda-cloud": {},
  "kernelspec": {
   "display_name": "Python [conda root]",
   "language": "python",
   "name": "conda-root-py"
  },
  "language_info": {
   "codemirror_mode": {
    "name": "ipython",
    "version": 3
   },
   "file_extension": ".py",
   "mimetype": "text/x-python",
   "name": "python",
   "nbconvert_exporter": "python",
   "pygments_lexer": "ipython3",
   "version": "3.5.2"
  }
 },
 "nbformat": 4,
 "nbformat_minor": 1
}
